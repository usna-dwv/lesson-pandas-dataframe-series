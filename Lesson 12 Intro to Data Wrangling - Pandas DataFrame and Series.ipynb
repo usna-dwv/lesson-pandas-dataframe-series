{
 "cells": [
  {
   "cell_type": "markdown",
   "metadata": {},
   "source": [
    "**SA433A &#x25aa; Data Wrangling and Visualization &#x25aa; Fall 2024**"
   ]
  },
  {
   "cell_type": "markdown",
   "metadata": {},
   "source": [
    "# Lesson 12. Introduction to Data Wrangling &mdash; The Pandas DataFrame and Series"
   ]
  },
  {
   "cell_type": "markdown",
   "metadata": {},
   "source": [
    "## Overview\n"
   ]
  },
  {
   "cell_type": "markdown",
   "metadata": {},
   "source": [
    "- **Data wrangling** (sometimes called **data munging**) is the act of transforming or manipulating data into the right form you need for analysis"
   ]
  },
  {
   "cell_type": "markdown",
   "metadata": {},
   "source": [
    "- This might involve:\n",
    "    - filtering or rearranging data\n",
    "    - creating new data based on the existing data\n",
    "    - merging different data sets together"
   ]
  },
  {
   "cell_type": "markdown",
   "metadata": {},
   "source": [
    "- For example, the datasets you've been given for Project 3 actually came from 4 different datasets, managed by different parties"
   ]
  },
  {
   "cell_type": "markdown",
   "metadata": {},
   "source": [
    "- Data wrangling isn't glamorous, but it is very necessary!\n",
    "    - Real data sets, unlike the data sets you often encounter in class, are messy\n",
    "    - It's pretty common to spend more time on wrangling data than data analysis!"
   ]
  },
  {
   "cell_type": "markdown",
   "metadata": {},
   "source": [
    "- Starting with this lesson, we'll learn how to wrangle data sets with [**Pandas**](https://pandas.pydata.org/), a Python library for data manipulation and analysis\n",
    "\n",
    "\n",
    "- Pandas is powerful and vast, and there are typically many ways to do a particular task with Pandas\n",
    "\n",
    "\n",
    "- We will focus on a *curated* approach to using a *subset* of the Pandas library that will be sufficient to perform most data wrangling tasks"
   ]
  },
  {
   "cell_type": "markdown",
   "metadata": {},
   "source": [
    "## In this lesson..."
   ]
  },
  {
   "cell_type": "markdown",
   "metadata": {},
   "source": [
    "- The DataFrame object and the index\n",
    "\n",
    "\n",
    "- The Series object\n",
    "\n",
    "\n",
    "- Arithmetic operations, broadcasting, and alignment\n",
    "\n",
    "\n",
    "- Adding a column to a DataFrame"
   ]
  },
  {
   "cell_type": "markdown",
   "metadata": {},
   "source": [
    "<hr style=\"border-top: 2px solid gray; margin-top: 1px; margin-bottom: 1px\"></hr>"
   ]
  },
  {
   "cell_type": "markdown",
   "metadata": {},
   "source": [
    "## The DataFrame object and the index"
   ]
  },
  {
   "cell_type": "markdown",
   "metadata": {},
   "source": [
    "- Let's import Pandas &mdash; we don't need Altair for this lesson"
   ]
  },
  {
   "cell_type": "code",
   "execution_count": 1,
   "metadata": {},
   "outputs": [],
   "source": [
    "import pandas as pd"
   ]
  },
  {
   "cell_type": "markdown",
   "metadata": {},
   "source": [
    "- We've already seen the **DataFrame** in this class, as a way of representing tabular data with rows and columns\n",
    "\n",
    "\n",
    "- In particular, we know how to read a CSV file with tabular data into a DataFrame\n",
    "\n",
    "\n",
    "- For example, we can read in the contents of `data/small_grades.csv` with `pd.read_csv()`:"
   ]
  },
  {
   "cell_type": "code",
   "execution_count": 2,
   "metadata": {},
   "outputs": [],
   "source": [
    "df = pd.read_csv('data/small_grades.csv')"
   ]
  },
  {
   "cell_type": "markdown",
   "metadata": {},
   "source": [
    "- Recall that we can get the number of rows and columns of `df` with `df.shape`:"
   ]
  },
  {
   "cell_type": "code",
   "execution_count": 3,
   "metadata": {},
   "outputs": [
    {
     "data": {
      "text/plain": [
       "(5, 8)"
      ]
     },
     "execution_count": 3,
     "metadata": {},
     "output_type": "execute_result"
    }
   ],
   "source": [
    "df.shape"
   ]
  },
  {
   "cell_type": "markdown",
   "metadata": {},
   "source": [
    "* Also recall that we can get some basic information about `df` with `df.info()`:"
   ]
  },
  {
   "cell_type": "code",
   "execution_count": 4,
   "metadata": {},
   "outputs": [
    {
     "name": "stdout",
     "output_type": "stream",
     "text": [
      "<class 'pandas.core.frame.DataFrame'>\n",
      "RangeIndex: 5 entries, 0 to 4\n",
      "Data columns (total 8 columns):\n",
      " #   Column      Non-Null Count  Dtype \n",
      "---  ------      --------------  ----- \n",
      " 0   student_id  5 non-null      int64 \n",
      " 1   last_name   5 non-null      object\n",
      " 2   first_name  5 non-null      object\n",
      " 3   quiz1       5 non-null      int64 \n",
      " 4   quiz2       5 non-null      int64 \n",
      " 5   quiz3       5 non-null      int64 \n",
      " 6   exam1       5 non-null      int64 \n",
      " 7   exam2       5 non-null      int64 \n",
      "dtypes: int64(6), object(2)\n",
      "memory usage: 452.0+ bytes\n"
     ]
    }
   ],
   "source": [
    "df.info()"
   ]
  },
  {
   "cell_type": "markdown",
   "metadata": {},
   "source": [
    "- As we can see from the output, we have 8 columns in this dataset\n",
    "\n",
    "\n",
    "- Possible `dtype`s: \n",
    "\n",
    "| `dtype` | Usage |\n",
    "| :- | :- |\n",
    "| `object` | text (usually...) |\n",
    "| `int64` | integer numbers |\n",
    "| `float64` | floating point numbers |\n",
    "| `bool` | Booleans: True/False values |\n",
    "| `datetime64` | date and time values |\n",
    "| `timedelta[ns]` | differences between two `datetime64`s |\n",
    "| `category` | finite list of text values |\n",
    "\n",
    "\n",
    "- We can preview the first 5 rows of `df` with `df.head()`:"
   ]
  },
  {
   "cell_type": "code",
   "execution_count": 5,
   "metadata": {},
   "outputs": [
    {
     "data": {
      "text/html": [
       "<div>\n",
       "<style scoped>\n",
       "    .dataframe tbody tr th:only-of-type {\n",
       "        vertical-align: middle;\n",
       "    }\n",
       "\n",
       "    .dataframe tbody tr th {\n",
       "        vertical-align: top;\n",
       "    }\n",
       "\n",
       "    .dataframe thead th {\n",
       "        text-align: right;\n",
       "    }\n",
       "</style>\n",
       "<table border=\"1\" class=\"dataframe\">\n",
       "  <thead>\n",
       "    <tr style=\"text-align: right;\">\n",
       "      <th></th>\n",
       "      <th>student_id</th>\n",
       "      <th>last_name</th>\n",
       "      <th>first_name</th>\n",
       "      <th>quiz1</th>\n",
       "      <th>quiz2</th>\n",
       "      <th>quiz3</th>\n",
       "      <th>exam1</th>\n",
       "      <th>exam2</th>\n",
       "    </tr>\n",
       "  </thead>\n",
       "  <tbody>\n",
       "    <tr>\n",
       "      <th>0</th>\n",
       "      <td>3208</td>\n",
       "      <td>Schmitt</td>\n",
       "      <td>Logan</td>\n",
       "      <td>89</td>\n",
       "      <td>81</td>\n",
       "      <td>85</td>\n",
       "      <td>97</td>\n",
       "      <td>75</td>\n",
       "    </tr>\n",
       "    <tr>\n",
       "      <th>1</th>\n",
       "      <td>2476</td>\n",
       "      <td>Burks</td>\n",
       "      <td>Keanan</td>\n",
       "      <td>88</td>\n",
       "      <td>76</td>\n",
       "      <td>63</td>\n",
       "      <td>50</td>\n",
       "      <td>96</td>\n",
       "    </tr>\n",
       "    <tr>\n",
       "      <th>2</th>\n",
       "      <td>1434</td>\n",
       "      <td>Nguyen</td>\n",
       "      <td>Janine</td>\n",
       "      <td>52</td>\n",
       "      <td>51</td>\n",
       "      <td>89</td>\n",
       "      <td>88</td>\n",
       "      <td>82</td>\n",
       "    </tr>\n",
       "    <tr>\n",
       "      <th>3</th>\n",
       "      <td>9812</td>\n",
       "      <td>Parry</td>\n",
       "      <td>Kristina</td>\n",
       "      <td>51</td>\n",
       "      <td>82</td>\n",
       "      <td>96</td>\n",
       "      <td>62</td>\n",
       "      <td>90</td>\n",
       "    </tr>\n",
       "    <tr>\n",
       "      <th>4</th>\n",
       "      <td>2369</td>\n",
       "      <td>Waters</td>\n",
       "      <td>Mikaela</td>\n",
       "      <td>90</td>\n",
       "      <td>62</td>\n",
       "      <td>53</td>\n",
       "      <td>80</td>\n",
       "      <td>61</td>\n",
       "    </tr>\n",
       "  </tbody>\n",
       "</table>\n",
       "</div>"
      ],
      "text/plain": [
       "   student_id last_name first_name  quiz1  quiz2  quiz3  exam1  exam2\n",
       "0        3208   Schmitt      Logan     89     81     85     97     75\n",
       "1        2476     Burks     Keanan     88     76     63     50     96\n",
       "2        1434    Nguyen     Janine     52     51     89     88     82\n",
       "3        9812     Parry   Kristina     51     82     96     62     90\n",
       "4        2369    Waters    Mikaela     90     62     53     80     61"
      ]
     },
     "execution_count": 5,
     "metadata": {},
     "output_type": "execute_result"
    }
   ],
   "source": [
    "df.head()"
   ]
  },
  {
   "cell_type": "markdown",
   "metadata": {},
   "source": [
    "- The left-most column is called the **index** of the DataFrame\n",
    "\n",
    "\n",
    "- The index assigns a *label* to each row/observation\n",
    "\n",
    "\n",
    "- The index does *not* count as a column/variable of the DataFrame"
   ]
  },
  {
   "cell_type": "markdown",
   "metadata": {},
   "source": [
    "- Often, it will be useful to set one of the existing columns as the index of the DataFrame\n",
    "\n",
    "\n",
    "- For example, we can set the index to be the values in the `student_id` column with the `.set_index()` DataFrame method, like this:"
   ]
  },
  {
   "cell_type": "code",
   "execution_count": null,
   "metadata": {},
   "outputs": [],
   "source": []
  },
  {
   "cell_type": "code",
   "execution_count": 6,
   "metadata": {
    "tags": [
     "solution"
    ]
   },
   "outputs": [],
   "source": [
    "# Solution\n",
    "df = df.set_index(keys='student_id', drop=True)"
   ]
  },
  {
   "cell_type": "markdown",
   "metadata": {},
   "source": [
    "- Some notes about `.set_index()`:\n",
    "    - `keys=...` specifies which column to use as the index\n",
    "    - `drop=...` specifies whether the column used as the index should be dropped from the DataFrame\n",
    "    - Note that `.set_index()` does *not* change the DataFrame in place, instead it returns a DataFrame\n",
    "        - Therefore, we need to grab the DataFrame that `.set_index()` returns in order to use the newly created index\n",
    "    - [Documentation for `.set_index()`](https://pandas.pydata.org/pandas-docs/stable/reference/api/pandas.DataFrame.set_index.html)"
   ]
  },
  {
   "cell_type": "markdown",
   "metadata": {},
   "source": [
    "- Looking at the new `df`, we see that the index now consists of the values from the `student_id` column:"
   ]
  },
  {
   "cell_type": "code",
   "execution_count": 7,
   "metadata": {},
   "outputs": [
    {
     "data": {
      "text/html": [
       "<div>\n",
       "<style scoped>\n",
       "    .dataframe tbody tr th:only-of-type {\n",
       "        vertical-align: middle;\n",
       "    }\n",
       "\n",
       "    .dataframe tbody tr th {\n",
       "        vertical-align: top;\n",
       "    }\n",
       "\n",
       "    .dataframe thead th {\n",
       "        text-align: right;\n",
       "    }\n",
       "</style>\n",
       "<table border=\"1\" class=\"dataframe\">\n",
       "  <thead>\n",
       "    <tr style=\"text-align: right;\">\n",
       "      <th></th>\n",
       "      <th>last_name</th>\n",
       "      <th>first_name</th>\n",
       "      <th>quiz1</th>\n",
       "      <th>quiz2</th>\n",
       "      <th>quiz3</th>\n",
       "      <th>exam1</th>\n",
       "      <th>exam2</th>\n",
       "    </tr>\n",
       "    <tr>\n",
       "      <th>student_id</th>\n",
       "      <th></th>\n",
       "      <th></th>\n",
       "      <th></th>\n",
       "      <th></th>\n",
       "      <th></th>\n",
       "      <th></th>\n",
       "      <th></th>\n",
       "    </tr>\n",
       "  </thead>\n",
       "  <tbody>\n",
       "    <tr>\n",
       "      <th>3208</th>\n",
       "      <td>Schmitt</td>\n",
       "      <td>Logan</td>\n",
       "      <td>89</td>\n",
       "      <td>81</td>\n",
       "      <td>85</td>\n",
       "      <td>97</td>\n",
       "      <td>75</td>\n",
       "    </tr>\n",
       "    <tr>\n",
       "      <th>2476</th>\n",
       "      <td>Burks</td>\n",
       "      <td>Keanan</td>\n",
       "      <td>88</td>\n",
       "      <td>76</td>\n",
       "      <td>63</td>\n",
       "      <td>50</td>\n",
       "      <td>96</td>\n",
       "    </tr>\n",
       "    <tr>\n",
       "      <th>1434</th>\n",
       "      <td>Nguyen</td>\n",
       "      <td>Janine</td>\n",
       "      <td>52</td>\n",
       "      <td>51</td>\n",
       "      <td>89</td>\n",
       "      <td>88</td>\n",
       "      <td>82</td>\n",
       "    </tr>\n",
       "    <tr>\n",
       "      <th>9812</th>\n",
       "      <td>Parry</td>\n",
       "      <td>Kristina</td>\n",
       "      <td>51</td>\n",
       "      <td>82</td>\n",
       "      <td>96</td>\n",
       "      <td>62</td>\n",
       "      <td>90</td>\n",
       "    </tr>\n",
       "    <tr>\n",
       "      <th>2369</th>\n",
       "      <td>Waters</td>\n",
       "      <td>Mikaela</td>\n",
       "      <td>90</td>\n",
       "      <td>62</td>\n",
       "      <td>53</td>\n",
       "      <td>80</td>\n",
       "      <td>61</td>\n",
       "    </tr>\n",
       "  </tbody>\n",
       "</table>\n",
       "</div>"
      ],
      "text/plain": [
       "           last_name first_name  quiz1  quiz2  quiz3  exam1  exam2\n",
       "student_id                                                        \n",
       "3208         Schmitt      Logan     89     81     85     97     75\n",
       "2476           Burks     Keanan     88     76     63     50     96\n",
       "1434          Nguyen     Janine     52     51     89     88     82\n",
       "9812           Parry   Kristina     51     82     96     62     90\n",
       "2369          Waters    Mikaela     90     62     53     80     61"
      ]
     },
     "execution_count": 7,
     "metadata": {},
     "output_type": "execute_result"
    }
   ],
   "source": [
    "df.head()"
   ]
  },
  {
   "cell_type": "markdown",
   "metadata": {},
   "source": [
    "- We'll come back to how the index is used shortly"
   ]
  },
  {
   "cell_type": "markdown",
   "metadata": {},
   "source": [
    "<hr style=\"border-top: 2px solid gray; margin-top: 1px; margin-bottom: 1px\"></hr>"
   ]
  },
  {
   "cell_type": "markdown",
   "metadata": {},
   "source": [
    "## The Series object"
   ]
  },
  {
   "cell_type": "markdown",
   "metadata": {},
   "source": [
    "- Each column of a DataFrame is a **Series** object\n",
    "\n",
    "\n",
    "- We can access a column/Series of a DataFrame using Python dictionary notation, with the column name as the key\n",
    "\n",
    "\n",
    "- For example, we can get the `last_name` column from `df` like this:"
   ]
  },
  {
   "cell_type": "code",
   "execution_count": null,
   "metadata": {},
   "outputs": [],
   "source": []
  },
  {
   "cell_type": "code",
   "execution_count": 8,
   "metadata": {
    "tags": [
     "solution"
    ]
   },
   "outputs": [
    {
     "data": {
      "text/plain": [
       "student_id\n",
       "3208    Schmitt\n",
       "2476      Burks\n",
       "1434     Nguyen\n",
       "9812      Parry\n",
       "2369     Waters\n",
       "Name: last_name, dtype: object"
      ]
     },
     "execution_count": 8,
     "metadata": {},
     "output_type": "execute_result"
    }
   ],
   "source": [
    "# Solution\n",
    "df['last_name']"
   ]
  },
  {
   "cell_type": "markdown",
   "metadata": {},
   "source": [
    "- Note that the Series object also comes with an index, just like a DataFrame"
   ]
  },
  {
   "cell_type": "markdown",
   "metadata": {},
   "source": [
    "<hr style=\"border-top: 2px solid gray; margin-top: 1px; margin-bottom: 1px\"></hr>"
   ]
  },
  {
   "cell_type": "markdown",
   "metadata": {},
   "source": [
    "## Arithmetic operations, broadcasting, and alignment"
   ]
  },
  {
   "cell_type": "markdown",
   "metadata": {},
   "source": [
    "- We can perform arithmetic operations between columns/Series using the usual operators: `+`, `-`, `*`, `/`\n",
    "\n",
    "\n",
    "- For example, we can compute the difference between each student's Exam 1 and Exam 2 scores like this:"
   ]
  },
  {
   "cell_type": "code",
   "execution_count": null,
   "metadata": {},
   "outputs": [],
   "source": []
  },
  {
   "cell_type": "code",
   "execution_count": 9,
   "metadata": {
    "tags": [
     "solution"
    ]
   },
   "outputs": [
    {
     "data": {
      "text/plain": [
       "student_id\n",
       "3208    22\n",
       "2476   -46\n",
       "1434     6\n",
       "9812   -28\n",
       "2369    19\n",
       "dtype: int64"
      ]
     },
     "execution_count": 9,
     "metadata": {},
     "output_type": "execute_result"
    }
   ],
   "source": [
    "# Solution\n",
    "df['exam1'] - df['exam2']"
   ]
  },
  {
   "cell_type": "markdown",
   "metadata": {},
   "source": [
    "- A few notes before moving on:\n",
    "    - The result of `+`, `-`, `*`, `/` between two columns or Series objects is another Series object\n",
    "    - Arithmetic operations are element-wise (i.e., *not* like matrix algebra)"
   ]
  },
  {
   "cell_type": "markdown",
   "metadata": {},
   "source": [
    "- We can also perform arithmetic operations between a column/Series and a scalar\n",
    "\n",
    "\n",
    "- For example, we can compute each student's exam average like this:"
   ]
  },
  {
   "cell_type": "code",
   "execution_count": null,
   "metadata": {},
   "outputs": [],
   "source": []
  },
  {
   "cell_type": "code",
   "execution_count": 10,
   "metadata": {
    "tags": [
     "solution"
    ]
   },
   "outputs": [
    {
     "data": {
      "text/plain": [
       "student_id\n",
       "3208    86.0\n",
       "2476    73.0\n",
       "1434    85.0\n",
       "9812    76.0\n",
       "2369    70.5\n",
       "dtype: float64"
      ]
     },
     "execution_count": 10,
     "metadata": {},
     "output_type": "execute_result"
    }
   ],
   "source": [
    "# Solution\n",
    "(df['exam1'] + df['exam2']) / 2"
   ]
  },
  {
   "cell_type": "markdown",
   "metadata": {
    "tags": [
     "solution"
    ]
   },
   "source": [
    "- Note that each element of the Series `df['exam1'] + df['exam2']` is divided by 2\n",
    "\n",
    "\n",
    "- This is called **broadcasting**: how operations are performed between data of different shapes\n",
    "\n",
    "\n",
    "- Broadcasting rules can get quite complex\n"
   ]
  },
  {
   "cell_type": "markdown",
   "metadata": {},
   "source": [
    "- Another important note: Pandas automatically **aligns** the data by the *index label* when performing arithmetic operations\n",
    "\n",
    "\n",
    "- To illustrate this, let's read in another dataset containing Quiz 1 bonus points, found in `data/quiz1_bonus.csv`:"
   ]
  },
  {
   "cell_type": "code",
   "execution_count": 11,
   "metadata": {},
   "outputs": [
    {
     "data": {
      "text/html": [
       "<div>\n",
       "<style scoped>\n",
       "    .dataframe tbody tr th:only-of-type {\n",
       "        vertical-align: middle;\n",
       "    }\n",
       "\n",
       "    .dataframe tbody tr th {\n",
       "        vertical-align: top;\n",
       "    }\n",
       "\n",
       "    .dataframe thead th {\n",
       "        text-align: right;\n",
       "    }\n",
       "</style>\n",
       "<table border=\"1\" class=\"dataframe\">\n",
       "  <thead>\n",
       "    <tr style=\"text-align: right;\">\n",
       "      <th></th>\n",
       "      <th>student_id</th>\n",
       "      <th>quiz1_bonus</th>\n",
       "    </tr>\n",
       "  </thead>\n",
       "  <tbody>\n",
       "    <tr>\n",
       "      <th>0</th>\n",
       "      <td>9812</td>\n",
       "      <td>6</td>\n",
       "    </tr>\n",
       "    <tr>\n",
       "      <th>1</th>\n",
       "      <td>1434</td>\n",
       "      <td>3</td>\n",
       "    </tr>\n",
       "    <tr>\n",
       "      <th>2</th>\n",
       "      <td>3208</td>\n",
       "      <td>4</td>\n",
       "    </tr>\n",
       "    <tr>\n",
       "      <th>3</th>\n",
       "      <td>2369</td>\n",
       "      <td>10</td>\n",
       "    </tr>\n",
       "    <tr>\n",
       "      <th>4</th>\n",
       "      <td>2476</td>\n",
       "      <td>0</td>\n",
       "    </tr>\n",
       "  </tbody>\n",
       "</table>\n",
       "</div>"
      ],
      "text/plain": [
       "   student_id  quiz1_bonus\n",
       "0        9812            6\n",
       "1        1434            3\n",
       "2        3208            4\n",
       "3        2369           10\n",
       "4        2476            0"
      ]
     },
     "execution_count": 11,
     "metadata": {},
     "output_type": "execute_result"
    }
   ],
   "source": [
    "bonus_df = pd.read_csv('data/small_quiz1_bonus.csv')\n",
    "bonus_df.head()"
   ]
  },
  {
   "cell_type": "markdown",
   "metadata": {},
   "source": [
    "- Like with `df`, let's set the index of `bonus_df` to `student_id`:"
   ]
  },
  {
   "cell_type": "code",
   "execution_count": null,
   "metadata": {},
   "outputs": [],
   "source": []
  },
  {
   "cell_type": "code",
   "execution_count": 12,
   "metadata": {
    "tags": [
     "solution"
    ]
   },
   "outputs": [
    {
     "data": {
      "text/html": [
       "<div>\n",
       "<style scoped>\n",
       "    .dataframe tbody tr th:only-of-type {\n",
       "        vertical-align: middle;\n",
       "    }\n",
       "\n",
       "    .dataframe tbody tr th {\n",
       "        vertical-align: top;\n",
       "    }\n",
       "\n",
       "    .dataframe thead th {\n",
       "        text-align: right;\n",
       "    }\n",
       "</style>\n",
       "<table border=\"1\" class=\"dataframe\">\n",
       "  <thead>\n",
       "    <tr style=\"text-align: right;\">\n",
       "      <th></th>\n",
       "      <th>quiz1_bonus</th>\n",
       "    </tr>\n",
       "    <tr>\n",
       "      <th>student_id</th>\n",
       "      <th></th>\n",
       "    </tr>\n",
       "  </thead>\n",
       "  <tbody>\n",
       "    <tr>\n",
       "      <th>9812</th>\n",
       "      <td>6</td>\n",
       "    </tr>\n",
       "    <tr>\n",
       "      <th>1434</th>\n",
       "      <td>3</td>\n",
       "    </tr>\n",
       "    <tr>\n",
       "      <th>3208</th>\n",
       "      <td>4</td>\n",
       "    </tr>\n",
       "    <tr>\n",
       "      <th>2369</th>\n",
       "      <td>10</td>\n",
       "    </tr>\n",
       "    <tr>\n",
       "      <th>2476</th>\n",
       "      <td>0</td>\n",
       "    </tr>\n",
       "  </tbody>\n",
       "</table>\n",
       "</div>"
      ],
      "text/plain": [
       "            quiz1_bonus\n",
       "student_id             \n",
       "9812                  6\n",
       "1434                  3\n",
       "3208                  4\n",
       "2369                 10\n",
       "2476                  0"
      ]
     },
     "execution_count": 12,
     "metadata": {},
     "output_type": "execute_result"
    }
   ],
   "source": [
    "# Solution\n",
    "bonus_df = bonus_df.set_index(keys='student_id')\n",
    "bonus_df.head()"
   ]
  },
  {
   "cell_type": "markdown",
   "metadata": {},
   "source": [
    "- Note that the student ID numbers are the same as those in `df`, but in a different order\n",
    "\n",
    "\n",
    "- Let's see what happens when we add these bonus points to the original Quiz 1 scores:"
   ]
  },
  {
   "cell_type": "code",
   "execution_count": null,
   "metadata": {},
   "outputs": [],
   "source": []
  },
  {
   "cell_type": "code",
   "execution_count": 13,
   "metadata": {
    "tags": [
     "solution"
    ]
   },
   "outputs": [
    {
     "data": {
      "text/plain": [
       "student_id\n",
       "1434     55\n",
       "2369    100\n",
       "2476     88\n",
       "3208     93\n",
       "9812     57\n",
       "dtype: int64"
      ]
     },
     "execution_count": 13,
     "metadata": {},
     "output_type": "execute_result"
    }
   ],
   "source": [
    "# Solution\n",
    "df['quiz1'] + bonus_df['quiz1_bonus']"
   ]
  },
  {
   "cell_type": "markdown",
   "metadata": {},
   "source": [
    "- Pandas correctly adds the bonus points to the original Quiz 1 scores with *matching index labels*"
   ]
  },
  {
   "cell_type": "markdown",
   "metadata": {},
   "source": [
    "<hr style=\"border-top: 2px solid gray; margin-top: 1px; margin-bottom: 1px\"></hr>"
   ]
  },
  {
   "cell_type": "markdown",
   "metadata": {},
   "source": [
    "## Adding a column to a DataFrame"
   ]
  },
  {
   "cell_type": "markdown",
   "metadata": {},
   "source": [
    "- One way of adding a column named `new_col` to a DataFrame `df` is:\n",
    "\n",
    "    ```python\n",
    "    df['new_col'] = ...\n",
    "    ```"
   ]
  },
  {
   "cell_type": "markdown",
   "metadata": {},
   "source": [
    "- For example, let's do the following:\n",
    "    1. Add a new column to `df` containing the Quiz 1 bonus points\n",
    "    2. Add a new column to `df` containing the adjusted Quiz 1 score (original score + bonus points)"
   ]
  },
  {
   "cell_type": "code",
   "execution_count": null,
   "metadata": {},
   "outputs": [],
   "source": []
  },
  {
   "cell_type": "code",
   "execution_count": 14,
   "metadata": {
    "tags": [
     "solution"
    ]
   },
   "outputs": [
    {
     "data": {
      "text/html": [
       "<div>\n",
       "<style scoped>\n",
       "    .dataframe tbody tr th:only-of-type {\n",
       "        vertical-align: middle;\n",
       "    }\n",
       "\n",
       "    .dataframe tbody tr th {\n",
       "        vertical-align: top;\n",
       "    }\n",
       "\n",
       "    .dataframe thead th {\n",
       "        text-align: right;\n",
       "    }\n",
       "</style>\n",
       "<table border=\"1\" class=\"dataframe\">\n",
       "  <thead>\n",
       "    <tr style=\"text-align: right;\">\n",
       "      <th></th>\n",
       "      <th>last_name</th>\n",
       "      <th>first_name</th>\n",
       "      <th>quiz1</th>\n",
       "      <th>quiz2</th>\n",
       "      <th>quiz3</th>\n",
       "      <th>exam1</th>\n",
       "      <th>exam2</th>\n",
       "      <th>quiz1_bonus</th>\n",
       "      <th>quiz1_adjusted</th>\n",
       "    </tr>\n",
       "    <tr>\n",
       "      <th>student_id</th>\n",
       "      <th></th>\n",
       "      <th></th>\n",
       "      <th></th>\n",
       "      <th></th>\n",
       "      <th></th>\n",
       "      <th></th>\n",
       "      <th></th>\n",
       "      <th></th>\n",
       "      <th></th>\n",
       "    </tr>\n",
       "  </thead>\n",
       "  <tbody>\n",
       "    <tr>\n",
       "      <th>3208</th>\n",
       "      <td>Schmitt</td>\n",
       "      <td>Logan</td>\n",
       "      <td>89</td>\n",
       "      <td>81</td>\n",
       "      <td>85</td>\n",
       "      <td>97</td>\n",
       "      <td>75</td>\n",
       "      <td>4</td>\n",
       "      <td>93</td>\n",
       "    </tr>\n",
       "    <tr>\n",
       "      <th>2476</th>\n",
       "      <td>Burks</td>\n",
       "      <td>Keanan</td>\n",
       "      <td>88</td>\n",
       "      <td>76</td>\n",
       "      <td>63</td>\n",
       "      <td>50</td>\n",
       "      <td>96</td>\n",
       "      <td>0</td>\n",
       "      <td>88</td>\n",
       "    </tr>\n",
       "    <tr>\n",
       "      <th>1434</th>\n",
       "      <td>Nguyen</td>\n",
       "      <td>Janine</td>\n",
       "      <td>52</td>\n",
       "      <td>51</td>\n",
       "      <td>89</td>\n",
       "      <td>88</td>\n",
       "      <td>82</td>\n",
       "      <td>3</td>\n",
       "      <td>55</td>\n",
       "    </tr>\n",
       "    <tr>\n",
       "      <th>9812</th>\n",
       "      <td>Parry</td>\n",
       "      <td>Kristina</td>\n",
       "      <td>51</td>\n",
       "      <td>82</td>\n",
       "      <td>96</td>\n",
       "      <td>62</td>\n",
       "      <td>90</td>\n",
       "      <td>6</td>\n",
       "      <td>57</td>\n",
       "    </tr>\n",
       "    <tr>\n",
       "      <th>2369</th>\n",
       "      <td>Waters</td>\n",
       "      <td>Mikaela</td>\n",
       "      <td>90</td>\n",
       "      <td>62</td>\n",
       "      <td>53</td>\n",
       "      <td>80</td>\n",
       "      <td>61</td>\n",
       "      <td>10</td>\n",
       "      <td>100</td>\n",
       "    </tr>\n",
       "  </tbody>\n",
       "</table>\n",
       "</div>"
      ],
      "text/plain": [
       "           last_name first_name  quiz1  quiz2  quiz3  exam1  exam2   \n",
       "student_id                                                           \n",
       "3208         Schmitt      Logan     89     81     85     97     75  \\\n",
       "2476           Burks     Keanan     88     76     63     50     96   \n",
       "1434          Nguyen     Janine     52     51     89     88     82   \n",
       "9812           Parry   Kristina     51     82     96     62     90   \n",
       "2369          Waters    Mikaela     90     62     53     80     61   \n",
       "\n",
       "            quiz1_bonus  quiz1_adjusted  \n",
       "student_id                               \n",
       "3208                  4              93  \n",
       "2476                  0              88  \n",
       "1434                  3              55  \n",
       "9812                  6              57  \n",
       "2369                 10             100  "
      ]
     },
     "execution_count": 14,
     "metadata": {},
     "output_type": "execute_result"
    }
   ],
   "source": [
    "# Solution\n",
    "df['quiz1_bonus'] = bonus_df['quiz1_bonus']\n",
    "df['quiz1_adjusted'] = df['quiz1'] + df['quiz1_bonus']\n",
    "df.head()"
   ]
  },
  {
   "cell_type": "markdown",
   "metadata": {},
   "source": [
    "- Note that the Quiz 1 bonus points are matched correctly with the corresponding `student_id`\n",
    "\n",
    "\n",
    "- We will learn another, typically more convenient way to add columns to a DataFrame in a later lesson "
   ]
  },
  {
   "cell_type": "markdown",
   "metadata": {},
   "source": [
    "<hr style=\"border-top: 2px solid gray; margin-top: 1px; margin-bottom: 1px\"></hr>"
   ]
  },
  {
   "cell_type": "markdown",
   "metadata": {},
   "source": [
    "## Problems"
   ]
  },
  {
   "cell_type": "markdown",
   "metadata": {},
   "source": [
    "### Problem 0"
   ]
  },
  {
   "cell_type": "markdown",
   "metadata": {},
   "source": [
    "The following problems are based on the CSV file `data/grades.csv` located in the same folder as this notebook. Read the CSV file into a DataFrame below. Display the top 5 rows of the DataFrame."
   ]
  },
  {
   "cell_type": "code",
   "execution_count": null,
   "metadata": {},
   "outputs": [],
   "source": []
  },
  {
   "cell_type": "code",
   "execution_count": 15,
   "metadata": {
    "tags": [
     "solution"
    ]
   },
   "outputs": [
    {
     "data": {
      "text/html": [
       "<div>\n",
       "<style scoped>\n",
       "    .dataframe tbody tr th:only-of-type {\n",
       "        vertical-align: middle;\n",
       "    }\n",
       "\n",
       "    .dataframe tbody tr th {\n",
       "        vertical-align: top;\n",
       "    }\n",
       "\n",
       "    .dataframe thead th {\n",
       "        text-align: right;\n",
       "    }\n",
       "</style>\n",
       "<table border=\"1\" class=\"dataframe\">\n",
       "  <thead>\n",
       "    <tr style=\"text-align: right;\">\n",
       "      <th></th>\n",
       "      <th>student_id</th>\n",
       "      <th>lastname</th>\n",
       "      <th>firstname</th>\n",
       "      <th>quiz1</th>\n",
       "      <th>quiz2</th>\n",
       "      <th>quiz3</th>\n",
       "      <th>quiz4</th>\n",
       "      <th>exam1</th>\n",
       "      <th>exam2</th>\n",
       "    </tr>\n",
       "  </thead>\n",
       "  <tbody>\n",
       "    <tr>\n",
       "      <th>0</th>\n",
       "      <td>2603</td>\n",
       "      <td>Conway</td>\n",
       "      <td>Romeo</td>\n",
       "      <td>19</td>\n",
       "      <td>29</td>\n",
       "      <td>20</td>\n",
       "      <td>30</td>\n",
       "      <td>87</td>\n",
       "      <td>50</td>\n",
       "    </tr>\n",
       "    <tr>\n",
       "      <th>1</th>\n",
       "      <td>6435</td>\n",
       "      <td>Livingston</td>\n",
       "      <td>Naseem</td>\n",
       "      <td>17</td>\n",
       "      <td>16</td>\n",
       "      <td>14</td>\n",
       "      <td>25</td>\n",
       "      <td>55</td>\n",
       "      <td>83</td>\n",
       "    </tr>\n",
       "    <tr>\n",
       "      <th>2</th>\n",
       "      <td>6754</td>\n",
       "      <td>Clark</td>\n",
       "      <td>Remy</td>\n",
       "      <td>15</td>\n",
       "      <td>30</td>\n",
       "      <td>11</td>\n",
       "      <td>24</td>\n",
       "      <td>60</td>\n",
       "      <td>95</td>\n",
       "    </tr>\n",
       "    <tr>\n",
       "      <th>3</th>\n",
       "      <td>3032</td>\n",
       "      <td>Carpenter</td>\n",
       "      <td>Zubair</td>\n",
       "      <td>16</td>\n",
       "      <td>13</td>\n",
       "      <td>18</td>\n",
       "      <td>14</td>\n",
       "      <td>91</td>\n",
       "      <td>71</td>\n",
       "    </tr>\n",
       "    <tr>\n",
       "      <th>4</th>\n",
       "      <td>2715</td>\n",
       "      <td>Guerra</td>\n",
       "      <td>Samantha</td>\n",
       "      <td>13</td>\n",
       "      <td>15</td>\n",
       "      <td>17</td>\n",
       "      <td>28</td>\n",
       "      <td>48</td>\n",
       "      <td>98</td>\n",
       "    </tr>\n",
       "  </tbody>\n",
       "</table>\n",
       "</div>"
      ],
      "text/plain": [
       "   student_id    lastname firstname  quiz1  quiz2  quiz3  quiz4  exam1  exam2\n",
       "0        2603      Conway     Romeo     19     29     20     30     87     50\n",
       "1        6435  Livingston    Naseem     17     16     14     25     55     83\n",
       "2        6754       Clark      Remy     15     30     11     24     60     95\n",
       "3        3032   Carpenter    Zubair     16     13     18     14     91     71\n",
       "4        2715      Guerra  Samantha     13     15     17     28     48     98"
      ]
     },
     "execution_count": 15,
     "metadata": {},
     "output_type": "execute_result"
    }
   ],
   "source": [
    "# Solution\n",
    "df = pd.read_csv('data/grades.csv')\n",
    "df.head()"
   ]
  },
  {
   "cell_type": "markdown",
   "metadata": {},
   "source": [
    "### Problem 1"
   ]
  },
  {
   "cell_type": "markdown",
   "metadata": {},
   "source": [
    "How many students are in this dataset?"
   ]
  },
  {
   "cell_type": "code",
   "execution_count": null,
   "metadata": {},
   "outputs": [],
   "source": []
  },
  {
   "cell_type": "code",
   "execution_count": 16,
   "metadata": {
    "tags": [
     "solution"
    ]
   },
   "outputs": [
    {
     "data": {
      "text/plain": [
       "49"
      ]
     },
     "execution_count": 16,
     "metadata": {},
     "output_type": "execute_result"
    }
   ],
   "source": [
    "# Solution\n",
    "df.shape[0]"
   ]
  },
  {
   "cell_type": "markdown",
   "metadata": {},
   "source": [
    "### Problem 2"
   ]
  },
  {
   "cell_type": "markdown",
   "metadata": {},
   "source": [
    "Compute each student's exam average as a percentage (a fraction between 0 and 1). The maximum score on each exam is 100 points. Each exam is equally weighted in a student's exam average. Add a column containing the exam averages to the DataFrame. Check your work by displaying the top 5 rows of the DataFrame."
   ]
  },
  {
   "cell_type": "code",
   "execution_count": null,
   "metadata": {},
   "outputs": [],
   "source": []
  },
  {
   "cell_type": "code",
   "execution_count": 17,
   "metadata": {
    "tags": [
     "solution"
    ]
   },
   "outputs": [
    {
     "data": {
      "text/html": [
       "<div>\n",
       "<style scoped>\n",
       "    .dataframe tbody tr th:only-of-type {\n",
       "        vertical-align: middle;\n",
       "    }\n",
       "\n",
       "    .dataframe tbody tr th {\n",
       "        vertical-align: top;\n",
       "    }\n",
       "\n",
       "    .dataframe thead th {\n",
       "        text-align: right;\n",
       "    }\n",
       "</style>\n",
       "<table border=\"1\" class=\"dataframe\">\n",
       "  <thead>\n",
       "    <tr style=\"text-align: right;\">\n",
       "      <th></th>\n",
       "      <th>student_id</th>\n",
       "      <th>lastname</th>\n",
       "      <th>firstname</th>\n",
       "      <th>quiz1</th>\n",
       "      <th>quiz2</th>\n",
       "      <th>quiz3</th>\n",
       "      <th>quiz4</th>\n",
       "      <th>exam1</th>\n",
       "      <th>exam2</th>\n",
       "      <th>exam_avg</th>\n",
       "    </tr>\n",
       "  </thead>\n",
       "  <tbody>\n",
       "    <tr>\n",
       "      <th>0</th>\n",
       "      <td>2603</td>\n",
       "      <td>Conway</td>\n",
       "      <td>Romeo</td>\n",
       "      <td>19</td>\n",
       "      <td>29</td>\n",
       "      <td>20</td>\n",
       "      <td>30</td>\n",
       "      <td>87</td>\n",
       "      <td>50</td>\n",
       "      <td>0.685</td>\n",
       "    </tr>\n",
       "    <tr>\n",
       "      <th>1</th>\n",
       "      <td>6435</td>\n",
       "      <td>Livingston</td>\n",
       "      <td>Naseem</td>\n",
       "      <td>17</td>\n",
       "      <td>16</td>\n",
       "      <td>14</td>\n",
       "      <td>25</td>\n",
       "      <td>55</td>\n",
       "      <td>83</td>\n",
       "      <td>0.690</td>\n",
       "    </tr>\n",
       "    <tr>\n",
       "      <th>2</th>\n",
       "      <td>6754</td>\n",
       "      <td>Clark</td>\n",
       "      <td>Remy</td>\n",
       "      <td>15</td>\n",
       "      <td>30</td>\n",
       "      <td>11</td>\n",
       "      <td>24</td>\n",
       "      <td>60</td>\n",
       "      <td>95</td>\n",
       "      <td>0.775</td>\n",
       "    </tr>\n",
       "    <tr>\n",
       "      <th>3</th>\n",
       "      <td>3032</td>\n",
       "      <td>Carpenter</td>\n",
       "      <td>Zubair</td>\n",
       "      <td>16</td>\n",
       "      <td>13</td>\n",
       "      <td>18</td>\n",
       "      <td>14</td>\n",
       "      <td>91</td>\n",
       "      <td>71</td>\n",
       "      <td>0.810</td>\n",
       "    </tr>\n",
       "    <tr>\n",
       "      <th>4</th>\n",
       "      <td>2715</td>\n",
       "      <td>Guerra</td>\n",
       "      <td>Samantha</td>\n",
       "      <td>13</td>\n",
       "      <td>15</td>\n",
       "      <td>17</td>\n",
       "      <td>28</td>\n",
       "      <td>48</td>\n",
       "      <td>98</td>\n",
       "      <td>0.730</td>\n",
       "    </tr>\n",
       "  </tbody>\n",
       "</table>\n",
       "</div>"
      ],
      "text/plain": [
       "   student_id    lastname firstname  quiz1  quiz2  quiz3  quiz4  exam1  exam2   \n",
       "0        2603      Conway     Romeo     19     29     20     30     87     50  \\\n",
       "1        6435  Livingston    Naseem     17     16     14     25     55     83   \n",
       "2        6754       Clark      Remy     15     30     11     24     60     95   \n",
       "3        3032   Carpenter    Zubair     16     13     18     14     91     71   \n",
       "4        2715      Guerra  Samantha     13     15     17     28     48     98   \n",
       "\n",
       "   exam_avg  \n",
       "0     0.685  \n",
       "1     0.690  \n",
       "2     0.775  \n",
       "3     0.810  \n",
       "4     0.730  "
      ]
     },
     "execution_count": 17,
     "metadata": {},
     "output_type": "execute_result"
    }
   ],
   "source": [
    "# Solution\n",
    "df['exam_avg'] = ((df['exam1'] / 100) + (df['exam2'] / 100)) / 2\n",
    "df.head()"
   ]
  },
  {
   "cell_type": "markdown",
   "metadata": {},
   "source": [
    "### Problem 3"
   ]
  },
  {
   "cell_type": "markdown",
   "metadata": {},
   "source": [
    "Compute each student's quiz average as a percentage (fraction between 0 and 1). The maximum score on Quizzes 1 and 3 is 20 points; the maximum score on Quizzes 2 and 4 is 30 points. Each quiz is equally weighted in a student's quiz average. Add a column containing the quiz averages to the DataFrame. Check your work by displaying the top 5 rows of the DataFrame."
   ]
  },
  {
   "cell_type": "code",
   "execution_count": null,
   "metadata": {},
   "outputs": [],
   "source": []
  },
  {
   "cell_type": "code",
   "execution_count": 18,
   "metadata": {
    "tags": [
     "solution"
    ]
   },
   "outputs": [
    {
     "data": {
      "text/html": [
       "<div>\n",
       "<style scoped>\n",
       "    .dataframe tbody tr th:only-of-type {\n",
       "        vertical-align: middle;\n",
       "    }\n",
       "\n",
       "    .dataframe tbody tr th {\n",
       "        vertical-align: top;\n",
       "    }\n",
       "\n",
       "    .dataframe thead th {\n",
       "        text-align: right;\n",
       "    }\n",
       "</style>\n",
       "<table border=\"1\" class=\"dataframe\">\n",
       "  <thead>\n",
       "    <tr style=\"text-align: right;\">\n",
       "      <th></th>\n",
       "      <th>student_id</th>\n",
       "      <th>lastname</th>\n",
       "      <th>firstname</th>\n",
       "      <th>quiz1</th>\n",
       "      <th>quiz2</th>\n",
       "      <th>quiz3</th>\n",
       "      <th>quiz4</th>\n",
       "      <th>exam1</th>\n",
       "      <th>exam2</th>\n",
       "      <th>exam_avg</th>\n",
       "      <th>quiz_avg</th>\n",
       "    </tr>\n",
       "  </thead>\n",
       "  <tbody>\n",
       "    <tr>\n",
       "      <th>0</th>\n",
       "      <td>2603</td>\n",
       "      <td>Conway</td>\n",
       "      <td>Romeo</td>\n",
       "      <td>19</td>\n",
       "      <td>29</td>\n",
       "      <td>20</td>\n",
       "      <td>30</td>\n",
       "      <td>87</td>\n",
       "      <td>50</td>\n",
       "      <td>0.685</td>\n",
       "      <td>0.979167</td>\n",
       "    </tr>\n",
       "    <tr>\n",
       "      <th>1</th>\n",
       "      <td>6435</td>\n",
       "      <td>Livingston</td>\n",
       "      <td>Naseem</td>\n",
       "      <td>17</td>\n",
       "      <td>16</td>\n",
       "      <td>14</td>\n",
       "      <td>25</td>\n",
       "      <td>55</td>\n",
       "      <td>83</td>\n",
       "      <td>0.690</td>\n",
       "      <td>0.729167</td>\n",
       "    </tr>\n",
       "    <tr>\n",
       "      <th>2</th>\n",
       "      <td>6754</td>\n",
       "      <td>Clark</td>\n",
       "      <td>Remy</td>\n",
       "      <td>15</td>\n",
       "      <td>30</td>\n",
       "      <td>11</td>\n",
       "      <td>24</td>\n",
       "      <td>60</td>\n",
       "      <td>95</td>\n",
       "      <td>0.775</td>\n",
       "      <td>0.775000</td>\n",
       "    </tr>\n",
       "    <tr>\n",
       "      <th>3</th>\n",
       "      <td>3032</td>\n",
       "      <td>Carpenter</td>\n",
       "      <td>Zubair</td>\n",
       "      <td>16</td>\n",
       "      <td>13</td>\n",
       "      <td>18</td>\n",
       "      <td>14</td>\n",
       "      <td>91</td>\n",
       "      <td>71</td>\n",
       "      <td>0.810</td>\n",
       "      <td>0.650000</td>\n",
       "    </tr>\n",
       "    <tr>\n",
       "      <th>4</th>\n",
       "      <td>2715</td>\n",
       "      <td>Guerra</td>\n",
       "      <td>Samantha</td>\n",
       "      <td>13</td>\n",
       "      <td>15</td>\n",
       "      <td>17</td>\n",
       "      <td>28</td>\n",
       "      <td>48</td>\n",
       "      <td>98</td>\n",
       "      <td>0.730</td>\n",
       "      <td>0.733333</td>\n",
       "    </tr>\n",
       "  </tbody>\n",
       "</table>\n",
       "</div>"
      ],
      "text/plain": [
       "   student_id    lastname firstname  quiz1  quiz2  quiz3  quiz4  exam1  exam2   \n",
       "0        2603      Conway     Romeo     19     29     20     30     87     50  \\\n",
       "1        6435  Livingston    Naseem     17     16     14     25     55     83   \n",
       "2        6754       Clark      Remy     15     30     11     24     60     95   \n",
       "3        3032   Carpenter    Zubair     16     13     18     14     91     71   \n",
       "4        2715      Guerra  Samantha     13     15     17     28     48     98   \n",
       "\n",
       "   exam_avg  quiz_avg  \n",
       "0     0.685  0.979167  \n",
       "1     0.690  0.729167  \n",
       "2     0.775  0.775000  \n",
       "3     0.810  0.650000  \n",
       "4     0.730  0.733333  "
      ]
     },
     "execution_count": 18,
     "metadata": {},
     "output_type": "execute_result"
    }
   ],
   "source": [
    "# Solution\n",
    "df['quiz_avg'] = ((df['quiz1'] / 20) + (df['quiz2'] / 30) + (df['quiz3'] / 20) + (df['quiz4'] / 30)) / 4\n",
    "df.head()"
   ]
  },
  {
   "cell_type": "markdown",
   "metadata": {},
   "source": [
    "### Problem 4"
   ]
  },
  {
   "cell_type": "markdown",
   "metadata": {},
   "source": [
    "Compute each student's course grade as a weighted average of each student's quiz average and exam average: quizzes are worth 35\\%, exams are worth 65\\%. Add a column containing the course grades to the DataFrame. \n",
    "\n",
    "\n",
    "Check your work by displaying the top 5 rows of the DataFrame. You should find that Romeo Conway has a course grade of about 78.8%, Naseem Livingston has a course grade of 70.4%, and Remy Clark has a course grade of 77.5%."
   ]
  },
  {
   "cell_type": "code",
   "execution_count": null,
   "metadata": {},
   "outputs": [],
   "source": []
  },
  {
   "cell_type": "code",
   "execution_count": 19,
   "metadata": {
    "tags": [
     "solution"
    ]
   },
   "outputs": [
    {
     "data": {
      "text/html": [
       "<div>\n",
       "<style scoped>\n",
       "    .dataframe tbody tr th:only-of-type {\n",
       "        vertical-align: middle;\n",
       "    }\n",
       "\n",
       "    .dataframe tbody tr th {\n",
       "        vertical-align: top;\n",
       "    }\n",
       "\n",
       "    .dataframe thead th {\n",
       "        text-align: right;\n",
       "    }\n",
       "</style>\n",
       "<table border=\"1\" class=\"dataframe\">\n",
       "  <thead>\n",
       "    <tr style=\"text-align: right;\">\n",
       "      <th></th>\n",
       "      <th>student_id</th>\n",
       "      <th>lastname</th>\n",
       "      <th>firstname</th>\n",
       "      <th>quiz1</th>\n",
       "      <th>quiz2</th>\n",
       "      <th>quiz3</th>\n",
       "      <th>quiz4</th>\n",
       "      <th>exam1</th>\n",
       "      <th>exam2</th>\n",
       "      <th>exam_avg</th>\n",
       "      <th>quiz_avg</th>\n",
       "      <th>course_grade</th>\n",
       "    </tr>\n",
       "  </thead>\n",
       "  <tbody>\n",
       "    <tr>\n",
       "      <th>0</th>\n",
       "      <td>2603</td>\n",
       "      <td>Conway</td>\n",
       "      <td>Romeo</td>\n",
       "      <td>19</td>\n",
       "      <td>29</td>\n",
       "      <td>20</td>\n",
       "      <td>30</td>\n",
       "      <td>87</td>\n",
       "      <td>50</td>\n",
       "      <td>0.685</td>\n",
       "      <td>0.979167</td>\n",
       "      <td>0.787958</td>\n",
       "    </tr>\n",
       "    <tr>\n",
       "      <th>1</th>\n",
       "      <td>6435</td>\n",
       "      <td>Livingston</td>\n",
       "      <td>Naseem</td>\n",
       "      <td>17</td>\n",
       "      <td>16</td>\n",
       "      <td>14</td>\n",
       "      <td>25</td>\n",
       "      <td>55</td>\n",
       "      <td>83</td>\n",
       "      <td>0.690</td>\n",
       "      <td>0.729167</td>\n",
       "      <td>0.703708</td>\n",
       "    </tr>\n",
       "    <tr>\n",
       "      <th>2</th>\n",
       "      <td>6754</td>\n",
       "      <td>Clark</td>\n",
       "      <td>Remy</td>\n",
       "      <td>15</td>\n",
       "      <td>30</td>\n",
       "      <td>11</td>\n",
       "      <td>24</td>\n",
       "      <td>60</td>\n",
       "      <td>95</td>\n",
       "      <td>0.775</td>\n",
       "      <td>0.775000</td>\n",
       "      <td>0.775000</td>\n",
       "    </tr>\n",
       "    <tr>\n",
       "      <th>3</th>\n",
       "      <td>3032</td>\n",
       "      <td>Carpenter</td>\n",
       "      <td>Zubair</td>\n",
       "      <td>16</td>\n",
       "      <td>13</td>\n",
       "      <td>18</td>\n",
       "      <td>14</td>\n",
       "      <td>91</td>\n",
       "      <td>71</td>\n",
       "      <td>0.810</td>\n",
       "      <td>0.650000</td>\n",
       "      <td>0.754000</td>\n",
       "    </tr>\n",
       "    <tr>\n",
       "      <th>4</th>\n",
       "      <td>2715</td>\n",
       "      <td>Guerra</td>\n",
       "      <td>Samantha</td>\n",
       "      <td>13</td>\n",
       "      <td>15</td>\n",
       "      <td>17</td>\n",
       "      <td>28</td>\n",
       "      <td>48</td>\n",
       "      <td>98</td>\n",
       "      <td>0.730</td>\n",
       "      <td>0.733333</td>\n",
       "      <td>0.731167</td>\n",
       "    </tr>\n",
       "  </tbody>\n",
       "</table>\n",
       "</div>"
      ],
      "text/plain": [
       "   student_id    lastname firstname  quiz1  quiz2  quiz3  quiz4  exam1  exam2   \n",
       "0        2603      Conway     Romeo     19     29     20     30     87     50  \\\n",
       "1        6435  Livingston    Naseem     17     16     14     25     55     83   \n",
       "2        6754       Clark      Remy     15     30     11     24     60     95   \n",
       "3        3032   Carpenter    Zubair     16     13     18     14     91     71   \n",
       "4        2715      Guerra  Samantha     13     15     17     28     48     98   \n",
       "\n",
       "   exam_avg  quiz_avg  course_grade  \n",
       "0     0.685  0.979167      0.787958  \n",
       "1     0.690  0.729167      0.703708  \n",
       "2     0.775  0.775000      0.775000  \n",
       "3     0.810  0.650000      0.754000  \n",
       "4     0.730  0.733333      0.731167  "
      ]
     },
     "execution_count": 19,
     "metadata": {},
     "output_type": "execute_result"
    }
   ],
   "source": [
    "# Solution\n",
    "df['course_grade'] = 0.35 * df['quiz_avg'] + 0.65 * df['exam_avg']\n",
    "df.head()"
   ]
  },
  {
   "cell_type": "markdown",
   "metadata": {},
   "source": [
    "<hr style=\"border-top: 2px solid gray; margin-top: 1px; margin-bottom: 1px\"></hr>"
   ]
  },
  {
   "cell_type": "markdown",
   "metadata": {},
   "source": [
    "## Notes and sources"
   ]
  },
  {
   "cell_type": "markdown",
   "metadata": {},
   "source": [
    "- From the [Pandas User Guide](https://pandas.pydata.org/docs/user_guide/index.html):\n",
    "    - [Intro to data structures](https://pandas.pydata.org/docs/user_guide/dsintro.html)\n",
    "    - [Essential basic functionality](https://pandas.pydata.org/docs/user_guide/basics.html)"
   ]
  }
 ],
 "metadata": {
  "kernelspec": {
   "display_name": "Python 3 (ipykernel)",
   "language": "python",
   "name": "python3"
  },
  "language_info": {
   "codemirror_mode": {
    "name": "ipython",
    "version": 3
   },
   "file_extension": ".py",
   "mimetype": "text/x-python",
   "name": "python",
   "nbconvert_exporter": "python",
   "pygments_lexer": "ipython3",
   "version": "3.11.3"
  }
 },
 "nbformat": 4,
 "nbformat_minor": 4
}
