{
 "cells": [
  {
   "cell_type": "markdown",
   "metadata": {},
   "source": [
    "**SA433A &#x25aa; Data Wrangling and Visualization &#x25aa; Fall 2024**"
   ]
  },
  {
   "cell_type": "markdown",
   "metadata": {},
   "source": [
    "# Lesson 12. Introduction to Data Wrangling &mdash; The Pandas DataFrame and Series"
   ]
  },
  {
   "cell_type": "markdown",
   "metadata": {},
   "source": [
    "## Overview\n"
   ]
  },
  {
   "cell_type": "markdown",
   "metadata": {},
   "source": [
    "- **Data wrangling** (sometimes called **data munging**) is the act of transforming or manipulating data into the right form you need for analysis"
   ]
  },
  {
   "cell_type": "markdown",
   "metadata": {},
   "source": [
    "- This might involve:\n",
    "    - filtering or rearranging data\n",
    "    - creating new data based on the existing data\n",
    "    - merging different data sets together"
   ]
  },
  {
   "cell_type": "markdown",
   "metadata": {},
   "source": [
    "- For example, the datasets you've been given for Project 3 actually came from 4 different datasets, managed by different parties"
   ]
  },
  {
   "cell_type": "markdown",
   "metadata": {},
   "source": [
    "- Data wrangling isn't glamorous, but it is very necessary!\n",
    "    - Real data sets, unlike the data sets you often encounter in class, are messy\n",
    "    - It's pretty common to spend more time on wrangling data than data analysis!"
   ]
  },
  {
   "cell_type": "markdown",
   "metadata": {},
   "source": [
    "- Starting with this lesson, we'll learn how to wrangle data sets with [**Pandas**](https://pandas.pydata.org/), a Python library for data manipulation and analysis\n",
    "\n",
    "\n",
    "- Pandas is powerful and vast, and there are typically many ways to do a particular task with Pandas\n",
    "\n",
    "\n",
    "- We will focus on a *curated* approach to using a *subset* of the Pandas library that will be sufficient to perform most data wrangling tasks"
   ]
  },
  {
   "cell_type": "markdown",
   "metadata": {},
   "source": [
    "## In this lesson..."
   ]
  },
  {
   "cell_type": "markdown",
   "metadata": {},
   "source": [
    "- The DataFrame object and the index\n",
    "\n",
    "\n",
    "- The Series object\n",
    "\n",
    "\n",
    "- Arithmetic operations, broadcasting, and alignment\n",
    "\n",
    "\n",
    "- Adding a column to a DataFrame"
   ]
  },
  {
   "cell_type": "markdown",
   "metadata": {},
   "source": [
    "<hr style=\"border-top: 2px solid gray; margin-top: 1px; margin-bottom: 1px\"></hr>"
   ]
  },
  {
   "cell_type": "markdown",
   "metadata": {},
   "source": [
    "## The DataFrame object and the index"
   ]
  },
  {
   "cell_type": "markdown",
   "metadata": {},
   "source": [
    "- Let's import Pandas &mdash; we don't need Altair for this lesson"
   ]
  },
  {
   "cell_type": "code",
   "execution_count": null,
   "metadata": {},
   "outputs": [],
   "source": [
    "import pandas as pd"
   ]
  },
  {
   "cell_type": "markdown",
   "metadata": {},
   "source": [
    "- We've already seen the **DataFrame** in this class, as a way of representing tabular data with rows and columns\n",
    "\n",
    "\n",
    "- In particular, we know how to read a CSV file with tabular data into a DataFrame\n",
    "\n",
    "\n",
    "- For example, we can read in the contents of `data/small_grades.csv` with `pd.read_csv()`:"
   ]
  },
  {
   "cell_type": "code",
   "execution_count": null,
   "metadata": {},
   "outputs": [],
   "source": [
    "df = pd.read_csv('data/small_grades.csv')"
   ]
  },
  {
   "cell_type": "markdown",
   "metadata": {},
   "source": [
    "- Recall that we can get the number of rows and columns of `df` with `df.shape`:"
   ]
  },
  {
   "cell_type": "code",
   "execution_count": null,
   "metadata": {},
   "outputs": [],
   "source": [
    "df.shape"
   ]
  },
  {
   "cell_type": "markdown",
   "metadata": {},
   "source": [
    "* Also recall that we can get some basic information about `df` with `df.info()`:"
   ]
  },
  {
   "cell_type": "code",
   "execution_count": null,
   "metadata": {},
   "outputs": [],
   "source": [
    "df.info()"
   ]
  },
  {
   "cell_type": "markdown",
   "metadata": {},
   "source": [
    "- As we can see from the output, we have 8 columns in this dataset\n",
    "\n",
    "\n",
    "- Possible `dtype`s: \n",
    "\n",
    "| `dtype` | Usage |\n",
    "| :- | :- |\n",
    "| `object` | text (usually...) |\n",
    "| `int64` | integer numbers |\n",
    "| `float64` | floating point numbers |\n",
    "| `bool` | Booleans: True/False values |\n",
    "| `datetime64` | date and time values |\n",
    "| `timedelta[ns]` | differences between two `datetime64`s |\n",
    "| `category` | finite list of text values |\n",
    "\n",
    "\n",
    "- We can preview the first 5 rows of `df` with `df.head()`:"
   ]
  },
  {
   "cell_type": "code",
   "execution_count": null,
   "metadata": {},
   "outputs": [],
   "source": [
    "df.head()"
   ]
  },
  {
   "cell_type": "markdown",
   "metadata": {},
   "source": [
    "- The left-most column is called the **index** of the DataFrame\n",
    "\n",
    "\n",
    "- The index assigns a *label* to each row/observation\n",
    "\n",
    "\n",
    "- The index does *not* count as a column/variable of the DataFrame"
   ]
  },
  {
   "cell_type": "markdown",
   "metadata": {},
   "source": [
    "- Often, it will be useful to set one of the existing columns as the index of the DataFrame\n",
    "\n",
    "\n",
    "- For example, we can set the index to be the values in the `student_id` column with the `.set_index()` DataFrame method, like this:"
   ]
  },
  {
   "cell_type": "code",
   "execution_count": null,
   "metadata": {},
   "outputs": [],
   "source": []
  },
  {
   "cell_type": "markdown",
   "metadata": {},
   "source": [
    "- Some notes about `.set_index()`:\n",
    "    - `keys=...` specifies which column to use as the index\n",
    "    - `drop=...` specifies whether the column used as the index should be dropped from the DataFrame\n",
    "    - Note that `.set_index()` does *not* change the DataFrame in place, instead it returns a DataFrame\n",
    "        - Therefore, we need to grab the DataFrame that `.set_index()` returns in order to use the newly created index\n",
    "    - [Documentation for `.set_index()`](https://pandas.pydata.org/pandas-docs/stable/reference/api/pandas.DataFrame.set_index.html)"
   ]
  },
  {
   "cell_type": "markdown",
   "metadata": {},
   "source": [
    "- Looking at the new `df`, we see that the index now consists of the values from the `student_id` column:"
   ]
  },
  {
   "cell_type": "code",
   "execution_count": null,
   "metadata": {},
   "outputs": [],
   "source": [
    "df.head()"
   ]
  },
  {
   "cell_type": "markdown",
   "metadata": {},
   "source": [
    "- We'll come back to how the index is used shortly"
   ]
  },
  {
   "cell_type": "markdown",
   "metadata": {},
   "source": [
    "<hr style=\"border-top: 2px solid gray; margin-top: 1px; margin-bottom: 1px\"></hr>"
   ]
  },
  {
   "cell_type": "markdown",
   "metadata": {},
   "source": [
    "## The Series object"
   ]
  },
  {
   "cell_type": "markdown",
   "metadata": {},
   "source": [
    "- Each column of a DataFrame is a **Series** object\n",
    "\n",
    "\n",
    "- We can access a column/Series of a DataFrame using Python dictionary notation, with the column name as the key\n",
    "\n",
    "\n",
    "- For example, we can get the `last_name` column from `df` like this:"
   ]
  },
  {
   "cell_type": "code",
   "execution_count": null,
   "metadata": {},
   "outputs": [],
   "source": []
  },
  {
   "cell_type": "markdown",
   "metadata": {},
   "source": [
    "- Note that the Series object also comes with an index, just like a DataFrame"
   ]
  },
  {
   "cell_type": "markdown",
   "metadata": {},
   "source": [
    "<hr style=\"border-top: 2px solid gray; margin-top: 1px; margin-bottom: 1px\"></hr>"
   ]
  },
  {
   "cell_type": "markdown",
   "metadata": {},
   "source": [
    "## Arithmetic operations, broadcasting, and alignment"
   ]
  },
  {
   "cell_type": "markdown",
   "metadata": {},
   "source": [
    "- We can perform arithmetic operations between columns/Series using the usual operators: `+`, `-`, `*`, `/`\n",
    "\n",
    "\n",
    "- For example, we can compute the difference between each student's Exam 1 and Exam 2 scores like this:"
   ]
  },
  {
   "cell_type": "code",
   "execution_count": null,
   "metadata": {},
   "outputs": [],
   "source": []
  },
  {
   "cell_type": "markdown",
   "metadata": {},
   "source": [
    "- A few notes before moving on:\n",
    "    - The result of `+`, `-`, `*`, `/` between two columns or Series objects is another Series object\n",
    "    - Arithmetic operations are element-wise (i.e., *not* like matrix algebra)"
   ]
  },
  {
   "cell_type": "markdown",
   "metadata": {},
   "source": [
    "- We can also perform arithmetic operations between a column/Series and a scalar\n",
    "\n",
    "\n",
    "- For example, we can compute each student's exam average like this:"
   ]
  },
  {
   "cell_type": "code",
   "execution_count": null,
   "metadata": {},
   "outputs": [],
   "source": []
  },
  {
   "cell_type": "markdown",
   "metadata": {},
   "source": [
    "- Another important note: Pandas automatically **aligns** the data by the *index label* when performing arithmetic operations\n",
    "\n",
    "\n",
    "- To illustrate this, let's read in another dataset containing Quiz 1 bonus points, found in `data/quiz1_bonus.csv`:"
   ]
  },
  {
   "cell_type": "code",
   "execution_count": null,
   "metadata": {},
   "outputs": [],
   "source": [
    "bonus_df = pd.read_csv('data/small_quiz1_bonus.csv')\n",
    "bonus_df.head()"
   ]
  },
  {
   "cell_type": "markdown",
   "metadata": {},
   "source": [
    "- Like with `df`, let's set the index of `bonus_df` to `student_id`:"
   ]
  },
  {
   "cell_type": "code",
   "execution_count": null,
   "metadata": {},
   "outputs": [],
   "source": []
  },
  {
   "cell_type": "markdown",
   "metadata": {},
   "source": [
    "- Note that the student ID numbers are the same as those in `df`, but in a different order\n",
    "\n",
    "\n",
    "- Let's see what happens when we add these bonus points to the original Quiz 1 scores:"
   ]
  },
  {
   "cell_type": "code",
   "execution_count": null,
   "metadata": {},
   "outputs": [],
   "source": []
  },
  {
   "cell_type": "markdown",
   "metadata": {},
   "source": [
    "- Pandas correctly adds the bonus points to the original Quiz 1 scores with *matching index labels*"
   ]
  },
  {
   "cell_type": "markdown",
   "metadata": {},
   "source": [
    "<hr style=\"border-top: 2px solid gray; margin-top: 1px; margin-bottom: 1px\"></hr>"
   ]
  },
  {
   "cell_type": "markdown",
   "metadata": {},
   "source": [
    "## Adding a column to a DataFrame"
   ]
  },
  {
   "cell_type": "markdown",
   "metadata": {},
   "source": [
    "- One way of adding a column named `new_col` to a DataFrame `df` is:\n",
    "\n",
    "    ```python\n",
    "    df['new_col'] = ...\n",
    "    ```"
   ]
  },
  {
   "cell_type": "markdown",
   "metadata": {},
   "source": [
    "- For example, let's do the following:\n",
    "    1. Add a new column to `df` containing the Quiz 1 bonus points\n",
    "    2. Add a new column to `df` containing the adjusted Quiz 1 score (original score + bonus points)"
   ]
  },
  {
   "cell_type": "code",
   "execution_count": null,
   "metadata": {},
   "outputs": [],
   "source": []
  },
  {
   "cell_type": "markdown",
   "metadata": {},
   "source": [
    "- Note that the Quiz 1 bonus points are matched correctly with the corresponding `student_id`\n",
    "\n",
    "\n",
    "- We will learn another, typically more convenient way to add columns to a DataFrame in a later lesson "
   ]
  },
  {
   "cell_type": "markdown",
   "metadata": {},
   "source": [
    "<hr style=\"border-top: 2px solid gray; margin-top: 1px; margin-bottom: 1px\"></hr>"
   ]
  },
  {
   "cell_type": "markdown",
   "metadata": {},
   "source": [
    "## Problems"
   ]
  },
  {
   "cell_type": "markdown",
   "metadata": {},
   "source": [
    "### Problem 0"
   ]
  },
  {
   "cell_type": "markdown",
   "metadata": {},
   "source": [
    "The following problems are based on the CSV file `data/grades.csv` located in the same folder as this notebook. Read the CSV file into a DataFrame below. Display the top 5 rows of the DataFrame."
   ]
  },
  {
   "cell_type": "code",
   "execution_count": null,
   "metadata": {},
   "outputs": [],
   "source": []
  },
  {
   "cell_type": "markdown",
   "metadata": {},
   "source": [
    "### Problem 1"
   ]
  },
  {
   "cell_type": "markdown",
   "metadata": {},
   "source": [
    "How many students are in this dataset?"
   ]
  },
  {
   "cell_type": "code",
   "execution_count": null,
   "metadata": {},
   "outputs": [],
   "source": []
  },
  {
   "cell_type": "markdown",
   "metadata": {},
   "source": [
    "### Problem 2"
   ]
  },
  {
   "cell_type": "markdown",
   "metadata": {},
   "source": [
    "Compute each student's exam average as a percentage (a fraction between 0 and 1). The maximum score on each exam is 100 points. Each exam is equally weighted in a student's exam average. Add a column containing the exam averages to the DataFrame. Check your work by displaying the top 5 rows of the DataFrame."
   ]
  },
  {
   "cell_type": "code",
   "execution_count": null,
   "metadata": {},
   "outputs": [],
   "source": []
  },
  {
   "cell_type": "markdown",
   "metadata": {},
   "source": [
    "### Problem 3"
   ]
  },
  {
   "cell_type": "markdown",
   "metadata": {},
   "source": [
    "Compute each student's quiz average as a percentage (fraction between 0 and 1). The maximum score on Quizzes 1 and 3 is 20 points; the maximum score on Quizzes 2 and 4 is 30 points. Each quiz is equally weighted in a student's quiz average. Add a column containing the quiz averages to the DataFrame. Check your work by displaying the top 5 rows of the DataFrame."
   ]
  },
  {
   "cell_type": "code",
   "execution_count": null,
   "metadata": {},
   "outputs": [],
   "source": []
  },
  {
   "cell_type": "markdown",
   "metadata": {},
   "source": [
    "### Problem 4"
   ]
  },
  {
   "cell_type": "markdown",
   "metadata": {},
   "source": [
    "Compute each student's course grade as a weighted average of each student's quiz average and exam average: quizzes are worth 35\\%, exams are worth 65\\%. Add a column containing the course grades to the DataFrame. \n",
    "\n",
    "\n",
    "Check your work by displaying the top 5 rows of the DataFrame. You should find that Romeo Conway has a course grade of about 78.8%, Naseem Livingston has a course grade of 70.4%, and Remy Clark has a course grade of 77.5%."
   ]
  },
  {
   "cell_type": "code",
   "execution_count": null,
   "metadata": {},
   "outputs": [],
   "source": []
  },
  {
   "cell_type": "markdown",
   "metadata": {},
   "source": [
    "<hr style=\"border-top: 2px solid gray; margin-top: 1px; margin-bottom: 1px\"></hr>"
   ]
  },
  {
   "cell_type": "markdown",
   "metadata": {},
   "source": [
    "## Notes and sources"
   ]
  },
  {
   "cell_type": "markdown",
   "metadata": {},
   "source": [
    "- From the [Pandas User Guide](https://pandas.pydata.org/docs/user_guide/index.html):\n",
    "    - [Intro to data structures](https://pandas.pydata.org/docs/user_guide/dsintro.html)\n",
    "    - [Essential basic functionality](https://pandas.pydata.org/docs/user_guide/basics.html)"
   ]
  }
 ],
 "metadata": {
  "kernelspec": {
   "display_name": "Python 3 (ipykernel)",
   "language": "python",
   "name": "python3"
  },
  "language_info": {
   "codemirror_mode": {
    "name": "ipython",
    "version": 3
   },
   "file_extension": ".py",
   "mimetype": "text/x-python",
   "name": "python",
   "nbconvert_exporter": "python",
   "pygments_lexer": "ipython3",
   "version": "3.11.3"
  }
 },
 "nbformat": 4,
 "nbformat_minor": 4
}
